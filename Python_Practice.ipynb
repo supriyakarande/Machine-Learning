{
  "nbformat": 4,
  "nbformat_minor": 0,
  "metadata": {
    "colab": {
      "name": "Python_Practice.ipynb",
      "provenance": [],
      "authorship_tag": "ABX9TyOYnLFabzI3BYsA3XiN/Y7p",
      "include_colab_link": true
    },
    "kernelspec": {
      "name": "python3",
      "display_name": "Python 3"
    }
  },
  "cells": [
    {
      "cell_type": "markdown",
      "metadata": {
        "id": "view-in-github",
        "colab_type": "text"
      },
      "source": [
        "<a href=\"https://colab.research.google.com/github/supriyakarande/Machine-Learning/blob/dev/Python_Practice.ipynb\" target=\"_parent\"><img src=\"https://colab.research.google.com/assets/colab-badge.svg\" alt=\"Open In Colab\"/></a>"
      ]
    },
    {
      "cell_type": "code",
      "metadata": {
        "id": "WTOzGrvpYlW0",
        "colab_type": "code",
        "colab": {
          "base_uri": "https://localhost:8080/",
          "height": 34
        },
        "outputId": "7ed749c2-c533-4333-95cd-ffdf0e7c7e7e"
      },
      "source": [
        "a=b=c=1\n",
        "print(a,b,c)"
      ],
      "execution_count": 11,
      "outputs": [
        {
          "output_type": "stream",
          "text": [
            "1 1 1\n"
          ],
          "name": "stdout"
        }
      ]
    },
    {
      "cell_type": "code",
      "metadata": {
        "id": "p2neEkfLaDoQ",
        "colab_type": "code",
        "colab": {
          "base_uri": "https://localhost:8080/",
          "height": 34
        },
        "outputId": "ccde35b2-4eba-4348-c771-908a36fc741e"
      },
      "source": [
        "a,b,c=1,2,\"Sups\"\n",
        "print(a,b,c)"
      ],
      "execution_count": 12,
      "outputs": [
        {
          "output_type": "stream",
          "text": [
            "1 2 Sups\n"
          ],
          "name": "stdout"
        }
      ]
    },
    {
      "cell_type": "markdown",
      "metadata": {
        "id": "mo2WxCMMaWAD",
        "colab_type": "text"
      },
      "source": [
        "Python Standard Data Types are:\n",
        "numbers,string,list,tuple,dictionary"
      ]
    },
    {
      "cell_type": "code",
      "metadata": {
        "id": "iybM_11zaNEB",
        "colab_type": "code",
        "colab": {
          "base_uri": "https://localhost:8080/",
          "height": 34
        },
        "outputId": "7fc031e4-9af3-49fd-b133-09ef1549fe1b"
      },
      "source": [
        "del a,b\n",
        "print(c)"
      ],
      "execution_count": 13,
      "outputs": [
        {
          "output_type": "stream",
          "text": [
            "Sups\n"
          ],
          "name": "stdout"
        }
      ]
    },
    {
      "cell_type": "markdown",
      "metadata": {
        "id": "tq4MwatzbOl2",
        "colab_type": "text"
      },
      "source": [
        "python supports tnt,long,float and complex numerical types"
      ]
    },
    {
      "cell_type": "code",
      "metadata": {
        "id": "ooyizp_dbdid",
        "colab_type": "code",
        "colab": {
          "base_uri": "https://localhost:8080/",
          "height": 208
        },
        "outputId": "50ac6533-605f-4983-cb17-abc224312dc5"
      },
      "source": [
        "str=\"Hello World\"\n",
        "print(str)\n",
        "print(str[0])\n",
        "print(len(str))\n",
        "print(str[0:5])\n",
        "print(str[2:5])\n",
        "print(str[-6:-2])\n",
        "print(str[-2:-6]) # getiing empty string as characters are read from roght to left but written from left to right\n",
        "print(str[2:])\n",
        "print(str*2)\n",
        "#print(str+1) it will give error message\n",
        "print(str[-1:])\n",
        "print(str+ \"\\tBye\")"
      ],
      "execution_count": 14,
      "outputs": [
        {
          "output_type": "stream",
          "text": [
            "Hello World\n",
            "H\n",
            "11\n",
            "Hello\n",
            "llo\n",
            " Wor\n",
            "\n",
            "llo World\n",
            "Hello WorldHello World\n",
            "d\n",
            "Hello World\tBye\n"
          ],
          "name": "stdout"
        }
      ]
    },
    {
      "cell_type": "markdown",
      "metadata": {
        "id": "ViUVB7XNdi2M",
        "colab_type": "text"
      },
      "source": [
        "Python List:\n",
        "Lists are the most versatile of Python's compound data types. A list contains items separated by commas and enclosed within square brackets ([]). To some extent, lists are similar to arrays in C. One difference between them is that all the items belonging to a list can be of different data type.\n",
        "\n",
        "The values stored in a list can be accessed using the slice operator ([ ] and [:]) with indexes starting at 0 in the beginning of the list and working their way to end -1. The plus (+) sign is the list concatenation operator, and the asterisk (*) is the repetition operator."
      ]
    },
    {
      "cell_type": "code",
      "metadata": {
        "id": "860tWfyBbvQN",
        "colab_type": "code",
        "colab": {
          "base_uri": "https://localhost:8080/",
          "height": 121
        },
        "outputId": "bf1dcc4b-df36-4b20-ed07-d62d3a8445e3"
      },
      "source": [
        "list1=[\"Supriya\",123,\"Karande\",56.70]\n",
        "print(list1)\n",
        "print(list1[0])\n",
        "list2=[\"Jalindar\",201]\n",
        "print(list1)\n",
        "print(list1+list2)\n",
        "list1.insert(2,\"sups\")\n",
        "print(list1)\n",
        "print(list1*3)"
      ],
      "execution_count": 22,
      "outputs": [
        {
          "output_type": "stream",
          "text": [
            "['Supriya', 123, 'Karande', 56.7]\n",
            "Supriya\n",
            "['Supriya', 123, 'Karande', 56.7]\n",
            "['Supriya', 123, 'Karande', 56.7, 'Jalindar', 201]\n",
            "['Supriya', 123, 'sups', 'Karande', 56.7]\n",
            "['Supriya', 123, 'sups', 'Karande', 56.7, 'Supriya', 123, 'sups', 'Karande', 56.7, 'Supriya', 123, 'sups', 'Karande', 56.7]\n"
          ],
          "name": "stdout"
        }
      ]
    },
    {
      "cell_type": "markdown",
      "metadata": {
        "id": "13Jl5ItaLjhI",
        "colab_type": "text"
      },
      "source": [
        "Python TUPLE\n",
        "A tuple is another sequence data type that is similar to the list. A tuple consists of a number of values separated by commas. Unlike lists, however, tuples are enclosed within parentheses.\n",
        "\n",
        "The main differences between lists and tuples are: Lists are enclosed in brackets ( [ ] ) and their elements and size can be changed, while tuples are enclosed in parentheses ( ( ) ) and cannot be updated. Tuples can be thought of as read-only lists."
      ]
    },
    {
      "cell_type": "code",
      "metadata": {
        "id": "PRKrBtefLq7x",
        "colab_type": "code",
        "colab": {
          "base_uri": "https://localhost:8080/",
          "height": 121
        },
        "outputId": "45180164-69f3-4b6b-e669-dbb3438d7cc9"
      },
      "source": [
        "tuple = ( 'abcd', 786 , 2.23, 'john', 70.2  )\n",
        "tinytuple = (123, 'john')\n",
        "\n",
        "print(tuple)               # Prints the complete tuple\n",
        "print(tuple[0])            # Prints first element of the tuple\n",
        "print(tuple[1:3])          # Prints elements of the tuple starting from 2nd till 3rd \n",
        "print(tuple[2:])           # Prints elements of the tuple starting from 3rd element\n",
        "print(tinytuple * 2)       # Prints the contents of the tuple twice\n",
        "print(tuple + tinytuple)   # Prints concatenated tupl"
      ],
      "execution_count": 23,
      "outputs": [
        {
          "output_type": "stream",
          "text": [
            "('abcd', 786, 2.23, 'john', 70.2)\n",
            "abcd\n",
            "(786, 2.23)\n",
            "(2.23, 'john', 70.2)\n",
            "(123, 'john', 123, 'john')\n",
            "('abcd', 786, 2.23, 'john', 70.2, 123, 'john')\n"
          ],
          "name": "stdout"
        }
      ]
    },
    {
      "cell_type": "markdown",
      "metadata": {
        "id": "G4ScIYpNMzUX",
        "colab_type": "text"
      },
      "source": [
        "Python Dictionary\n",
        "Python's dictionaries are kind of hash table type. They work like associative arrays or hashes found in Perl and consist of key-value pairs. A dictionary key can be almost any Python type, but are usually numbers or strings. Values, on the other hand, can be any arbitrary Python object.\n",
        "\n",
        "Dictionaries are enclosed by curly braces ({ }) and values can be assigned and accessed using square braces ([])."
      ]
    },
    {
      "cell_type": "code",
      "metadata": {
        "id": "tVkPoOtQM5CX",
        "colab_type": "code",
        "colab": {
          "base_uri": "https://localhost:8080/",
          "height": 202
        },
        "outputId": "e20628c8-26a5-462a-978e-4d55f21c3430"
      },
      "source": [
        "x=10\n",
        "list\n",
        "list(tinytuple)"
      ],
      "execution_count": 25,
      "outputs": [
        {
          "output_type": "error",
          "ename": "TypeError",
          "evalue": "ignored",
          "traceback": [
            "\u001b[0;31m---------------------------------------------------------------------------\u001b[0m",
            "\u001b[0;31mTypeError\u001b[0m                                 Traceback (most recent call last)",
            "\u001b[0;32m<ipython-input-25-2912c099d8a4>\u001b[0m in \u001b[0;36m<module>\u001b[0;34m()\u001b[0m\n\u001b[1;32m      1\u001b[0m \u001b[0mx\u001b[0m\u001b[0;34m=\u001b[0m\u001b[0;36m10\u001b[0m\u001b[0;34m\u001b[0m\u001b[0;34m\u001b[0m\u001b[0m\n\u001b[1;32m      2\u001b[0m \u001b[0mlist\u001b[0m\u001b[0;34m\u001b[0m\u001b[0;34m\u001b[0m\u001b[0m\n\u001b[0;32m----> 3\u001b[0;31m \u001b[0mlist\u001b[0m\u001b[0;34m(\u001b[0m\u001b[0mtinytuple\u001b[0m\u001b[0;34m)\u001b[0m\u001b[0;34m\u001b[0m\u001b[0;34m\u001b[0m\u001b[0m\n\u001b[0m",
            "\u001b[0;31mTypeError\u001b[0m: 'list' object is not callable"
          ]
        }
      ]
    },
    {
      "cell_type": "code",
      "metadata": {
        "id": "ss4bnpgoRCXg",
        "colab_type": "code",
        "colab": {
          "base_uri": "https://localhost:8080/",
          "height": 69
        },
        "outputId": "4bcfba3a-5f18-446d-ca36-8a6198d7f9f9"
      },
      "source": [
        "var1 = 100\n",
        "if var1:\n",
        "   print( \"1 - Got a true expression value\")\n",
        "   print( var1)\n",
        "\n",
        "var2 = 0\n",
        "if var2:\n",
        "   print(\"2 - Got a true expression value\")\n",
        "   print(var2)\n",
        "print(\"Good bye!\")"
      ],
      "execution_count": 28,
      "outputs": [
        {
          "output_type": "stream",
          "text": [
            "1 - Got a true expression value\n",
            "100\n",
            "Good bye!\n"
          ],
          "name": "stdout"
        }
      ]
    },
    {
      "cell_type": "markdown",
      "metadata": {
        "id": "6BCxpxWEZqi7",
        "colab_type": "text"
      },
      "source": [
        "Python Loops:\n",
        "1) while Loop"
      ]
    },
    {
      "cell_type": "code",
      "metadata": {
        "id": "I8AAoY6OYrA1",
        "colab_type": "code",
        "colab": {
          "base_uri": "https://localhost:8080/",
          "height": 191
        },
        "outputId": "b1be4b38-cfc7-4bd6-ab40-2398a422c88f"
      },
      "source": [
        "count=0\n",
        "while(count<=9):\n",
        "  print(\"The count is \",count)\n",
        "  count=count+1\n",
        "\n"
      ],
      "execution_count": 32,
      "outputs": [
        {
          "output_type": "stream",
          "text": [
            "The count is  0\n",
            "The count is  1\n",
            "The count is  2\n",
            "The count is  3\n",
            "The count is  4\n",
            "The count is  5\n",
            "The count is  6\n",
            "The count is  7\n",
            "The count is  8\n",
            "The count is  9\n"
          ],
          "name": "stdout"
        }
      ]
    },
    {
      "cell_type": "code",
      "metadata": {
        "id": "SzVCH_8IaaGp",
        "colab_type": "code",
        "colab": {
          "base_uri": "https://localhost:8080/",
          "height": 121
        },
        "outputId": "ae863908-7c75-4fe9-e5ef-48b64634e5a4"
      },
      "source": [
        "for letter in 'Python':\n",
        "  print(letter)"
      ],
      "execution_count": 34,
      "outputs": [
        {
          "output_type": "stream",
          "text": [
            "P\n",
            "y\n",
            "t\n",
            "h\n",
            "o\n",
            "n\n"
          ],
          "name": "stdout"
        }
      ]
    },
    {
      "cell_type": "code",
      "metadata": {
        "id": "YeWgf--Xa4hf",
        "colab_type": "code",
        "colab": {
          "base_uri": "https://localhost:8080/",
          "height": 121
        },
        "outputId": "df764a91-50e6-4ad9-ffb7-c26797a4fb97"
      },
      "source": [
        "a=['sups','aru','jalu']\n",
        "for i in a:\n",
        "  print(i)\n",
        "\n",
        "for i in range(len(a)):\n",
        "  print(a[i])  \n"
      ],
      "execution_count": 37,
      "outputs": [
        {
          "output_type": "stream",
          "text": [
            "sups\n",
            "aru\n",
            "jalu\n",
            "sups\n",
            "aru\n",
            "jalu\n"
          ],
          "name": "stdout"
        }
      ]
    },
    {
      "cell_type": "code",
      "metadata": {
        "id": "BqQUTBIFbyb3",
        "colab_type": "code",
        "colab": {
          "base_uri": "https://localhost:8080/",
          "height": 191
        },
        "outputId": "2104bed4-bffe-44e5-f69a-a99ae7a158d3"
      },
      "source": [
        "for num in range(10,20):     #to iterate between 10 to 20\n",
        "   for i in range(2,num):    #to iterate on the factors of the number\n",
        "      if num%i == 0:         #to determine the first factor\n",
        "         j=num/i             #to calculate the second factor\n",
        "         print('%d equals %d * %d' % (num,i,j))\n",
        "         break                 #to move to the next number, the #first FOR\n",
        "      else:                  # else part of the loop\n",
        "         print(num,'is a prime number')\n",
        "         break"
      ],
      "execution_count": 55,
      "outputs": [
        {
          "output_type": "stream",
          "text": [
            "10 equals 2 * 5\n",
            "11 is a prime number\n",
            "12 equals 2 * 6\n",
            "13 is a prime number\n",
            "14 equals 2 * 7\n",
            "15 is a prime number\n",
            "16 equals 2 * 8\n",
            "17 is a prime number\n",
            "18 equals 2 * 9\n",
            "19 is a prime number\n"
          ],
          "name": "stdout"
        }
      ]
    },
    {
      "cell_type": "code",
      "metadata": {
        "id": "ayOzqkeRco8v",
        "colab_type": "code",
        "colab": {
          "base_uri": "https://localhost:8080/",
          "height": 486
        },
        "outputId": "cf30a8be-884c-4cbd-f771-84bbbf9fa29f"
      },
      "source": [
        "lower = int(input(\"Enter lower range: \"))  \n",
        "upper = int(input(\"Enter upper range: \"))  \n",
        "  \n",
        "for num in range(lower,upper + 1):  \n",
        "   if num > 1:  \n",
        "       for i in range(2,num):  \n",
        "           if (num % i) == 0:  \n",
        "               break  \n",
        "       else:  \n",
        "           print(num)   "
      ],
      "execution_count": 56,
      "outputs": [
        {
          "output_type": "stream",
          "text": [
            "Enter lower range: 2\n",
            "Enter upper range: 100\n",
            "2\n",
            "3\n",
            "5\n",
            "7\n",
            "11\n",
            "13\n",
            "17\n",
            "19\n",
            "23\n",
            "29\n",
            "31\n",
            "37\n",
            "41\n",
            "43\n",
            "47\n",
            "53\n",
            "59\n",
            "61\n",
            "67\n",
            "71\n",
            "73\n",
            "79\n",
            "83\n",
            "89\n",
            "97\n"
          ],
          "name": "stdout"
        }
      ]
    },
    {
      "cell_type": "markdown",
      "metadata": {
        "id": "heK1mDiKgVwC",
        "colab_type": "text"
      },
      "source": [
        "Python Pass keyword:\n",
        "In Python, the pass keyword is used to execute nothing; it means, when we don't want to execute code, the pass can be used to execute empty. It is the same as the name refers to. It just makes the control to pass by without executing any code. If we want to bypass any code pass statement can be used.\n",
        "\n",
        "It is beneficial when a statement is required syntactically, but we want we don't want to execute or execute it later. The difference between the comments and pass is that, comments are entirely ignored by the Python interpreter, where the pass statement is not ignored."
      ]
    },
    {
      "cell_type": "code",
      "metadata": {
        "id": "m5ScmVdKf1Fv",
        "colab_type": "code",
        "colab": {}
      },
      "source": [
        "values = {'P', 'y', 't', 'h','o','n'}  \n",
        "for val in values:  \n",
        "    pass  "
      ],
      "execution_count": 1,
      "outputs": []
    },
    {
      "cell_type": "code",
      "metadata": {
        "id": "pUxSU4SxJBIR",
        "colab_type": "code",
        "colab": {
          "base_uri": "https://localhost:8080/",
          "height": 121
        },
        "outputId": "d37fc4ac-6ccb-4984-9f66-d119dcc649de"
      },
      "source": [
        "    for i in [1,2,3,4,5]:   \n",
        "        if(i==4):  \n",
        "            pass  \n",
        "            print(\"This is pass block\",i)  \n",
        "        print(i)  "
      ],
      "execution_count": 2,
      "outputs": [
        {
          "output_type": "stream",
          "text": [
            "1\n",
            "2\n",
            "3\n",
            "This is pass block 4\n",
            "4\n",
            "5\n"
          ],
          "name": "stdout"
        }
      ]
    },
    {
      "cell_type": "markdown",
      "metadata": {
        "id": "kjHZ-WeZJgGu",
        "colab_type": "text"
      },
      "source": [
        "Python strings:\n",
        "We can create a string by enclosing the characters in single-quotes or double- quotes. Python also provides triple-quotes to represent the string, but it is generally used for multiline string or docstrings."
      ]
    },
    {
      "cell_type": "code",
      "metadata": {
        "id": "7NMLv7rPJGTC",
        "colab_type": "code",
        "colab": {
          "base_uri": "https://localhost:8080/",
          "height": 104
        },
        "outputId": "a032808c-3e0b-409a-da15-80681fc7a4a4"
      },
      "source": [
        "    #Using single quotes  \n",
        "    str1 = 'Hello Python'  \n",
        "    print(str1)  \n",
        "    #Using double quotes  \n",
        "    str2 = \"Hello Python\"  \n",
        "    print(str2)  \n",
        "      \n",
        "    #Using triple quotes  \n",
        "    str3 = '''''Triple quotes are generally used for  \n",
        "        represent the multiline or \n",
        "        docstring'''   \n",
        "    print(str3)  "
      ],
      "execution_count": 3,
      "outputs": [
        {
          "output_type": "stream",
          "text": [
            "Hello Python\n",
            "Hello Python\n",
            "''Triple quotes are generally used for  \n",
            "    represent the multiline or \n",
            "    docstring\n"
          ],
          "name": "stdout"
        }
      ]
    },
    {
      "cell_type": "code",
      "metadata": {
        "id": "ooYvFQz0Jph1",
        "colab_type": "code",
        "colab": {
          "base_uri": "https://localhost:8080/",
          "height": 104
        },
        "outputId": "c88a6f06-bc27-48cc-e66d-1eec35c20725"
      },
      "source": [
        "str = \"JAVATPOINT\"  \n",
        "# Start Oth index to end  \n",
        "print(str[0:])  \n",
        "# Starts 1th index to 4th index  \n",
        "print(str[1:5])  \n",
        "# Starts 2nd index to 3rd index  \n",
        "print(str[2:4])  \n",
        "# Starts 0th to 2nd index  \n",
        "print(str[:3])  \n",
        "#Starts 4th to 6th index  \n",
        "print(str[4:7])  "
      ],
      "execution_count": 4,
      "outputs": [
        {
          "output_type": "stream",
          "text": [
            "JAVATPOINT\n",
            "AVAT\n",
            "VA\n",
            "JAV\n",
            "TPO\n"
          ],
          "name": "stdout"
        }
      ]
    },
    {
      "cell_type": "code",
      "metadata": {
        "id": "5xht73obJ8pW",
        "colab_type": "code",
        "colab": {
          "base_uri": "https://localhost:8080/",
          "height": 173
        },
        "outputId": "3172c7e3-b55c-4da9-adcb-6d0a6a0091c6"
      },
      "source": [
        "    str = 'JAVATPOINT'  \n",
        "    print(list(str))\n",
        "    print(str[-1])  \n",
        "    print(str[-3])  \n",
        "    print(str[-2:])  \n",
        "    print(str[-4:-1])  \n",
        "    print(str[-7:-2])  \n",
        "    print(str[-1:-6])\n",
        "    print(str[-6:-1])\n",
        "    # Reversing the given string  \n",
        "    print(str[::-1])  \n",
        "  \n",
        "   # print(str[-12])  #Error out of bounds"
      ],
      "execution_count": 11,
      "outputs": [
        {
          "output_type": "stream",
          "text": [
            "['J', 'A', 'V', 'A', 'T', 'P', 'O', 'I', 'N', 'T']\n",
            "T\n",
            "I\n",
            "NT\n",
            "OIN\n",
            "ATPOI\n",
            "\n",
            "TPOIN\n",
            "TNIOPTAVAJ\n"
          ],
          "name": "stdout"
        }
      ]
    },
    {
      "cell_type": "markdown",
      "metadata": {
        "id": "BUywKZmMQrY9",
        "colab_type": "text"
      },
      "source": [
        "Updating the content of the strings is as easy as assigning it to a new string. The string object doesn't support item assignment i.e., A string can only be replaced with new string since its content cannot be partially replaced. **Strings are immutable **in Python.\n",
        "\n"
      ]
    },
    {
      "cell_type": "code",
      "metadata": {
        "id": "cOi63c_ZK0LB",
        "colab_type": "code",
        "colab": {
          "base_uri": "https://localhost:8080/",
          "height": 34
        },
        "outputId": "e585c83f-15d6-4841-d5f4-cb151f581fa1"
      },
      "source": [
        "str1=\"Welcome to my first Python Tutorial\"\n",
        "\n",
        "str2=str1.split()\n",
        "print(str2)"
      ],
      "execution_count": 14,
      "outputs": [
        {
          "output_type": "stream",
          "text": [
            "['Welcome', 'to', 'my', 'first', 'Python', 'Tutorial']\n"
          ],
          "name": "stdout"
        }
      ]
    },
    {
      "cell_type": "code",
      "metadata": {
        "id": "q4lvgXVAXgRr",
        "colab_type": "code",
        "colab": {
          "base_uri": "https://localhost:8080/",
          "height": 52
        },
        "outputId": "5b71c464-a992-4383-b5ba-ba623aec330d"
      },
      "source": [
        "str3=str1.split('Welcome')\n",
        "print(str3)\n",
        "str4=str1.split('first')\n",
        "print(str4)"
      ],
      "execution_count": 17,
      "outputs": [
        {
          "output_type": "stream",
          "text": [
            "['', ' to my first Python Tutorial']\n",
            "['Welcome to my ', ' Python Tutorial']\n"
          ],
          "name": "stdout"
        }
      ]
    },
    {
      "cell_type": "code",
      "metadata": {
        "id": "eAIlWICnX06w",
        "colab_type": "code",
        "colab": {
          "base_uri": "https://localhost:8080/",
          "height": 52
        },
        "outputId": "418ccb5a-2c60-4de8-9e9a-b904dd47fa08"
      },
      "source": [
        "#Join method ofstring can be used to concat str with iterable objects as list,tuple,dictionary\n",
        "str=\"->\"\n",
        "list1=['Java','Python','.net','C']\n",
        "str2=str.join(list1)\n",
        "print(str2)\n",
        "str1=\" \"\n",
        "str3=str1.join(list1)\n",
        "print(str3)"
      ],
      "execution_count": 22,
      "outputs": [
        {
          "output_type": "stream",
          "text": [
            "Java->Python->.net->C\n",
            "Java Python .net C\n"
          ],
          "name": "stdout"
        }
      ]
    },
    {
      "cell_type": "code",
      "metadata": {
        "id": "BHfgzeUlaWAv",
        "colab_type": "code",
        "colab": {
          "base_uri": "https://localhost:8080/",
          "height": 34
        },
        "outputId": "0c5332cf-7b38-4273-f104-d3ada82f6168"
      },
      "source": [
        "str=\"ab bc cba\"\n",
        "c=str.count('b',1,2)\n",
        "print(c)"
      ],
      "execution_count": 34,
      "outputs": [
        {
          "output_type": "stream",
          "text": [
            "1\n"
          ],
          "name": "stdout"
        }
      ]
    },
    {
      "cell_type": "code",
      "metadata": {
        "id": "-LwNvtHucOQ5",
        "colab_type": "code",
        "colab": {}
      },
      "source": [
        ""
      ],
      "execution_count": null,
      "outputs": []
    }
  ]
}