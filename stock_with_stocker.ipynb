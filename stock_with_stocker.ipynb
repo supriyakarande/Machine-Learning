{
  "nbformat": 4,
  "nbformat_minor": 0,
  "metadata": {
    "colab": {
      "name": "stock_with_stocker.ipynb",
      "provenance": [],
      "authorship_tag": "ABX9TyOyUhw6N3kQK0N5VlHNOBVp",
      "include_colab_link": true
    },
    "kernelspec": {
      "name": "python3",
      "display_name": "Python 3"
    }
  },
  "cells": [
    {
      "cell_type": "markdown",
      "metadata": {
        "id": "view-in-github",
        "colab_type": "text"
      },
      "source": [
        "<a href=\"https://colab.research.google.com/github/supriyakarande/Machine-Learning/blob/master/stock_with_stocker.ipynb\" target=\"_parent\"><img src=\"https://colab.research.google.com/assets/colab-badge.svg\" alt=\"Open In Colab\"/></a>"
      ]
    },
    {
      "cell_type": "code",
      "metadata": {
        "id": "oOGQ7fVa2GyF",
        "colab_type": "code",
        "colab": {
          "base_uri": "https://localhost:8080/",
          "height": 938
        },
        "outputId": "26afe7d8-5f26-417b-e49d-587cea29aa47"
      },
      "source": [
        "pip install stocker"
      ],
      "execution_count": null,
      "outputs": [
        {
          "output_type": "stream",
          "text": [
            "Collecting stocker\n",
            "  Downloading https://files.pythonhosted.org/packages/61/7f/117b3d7dd47f013da9e530a98846505637f3bdd4896d48f981fd893b1e58/stocker-0.1.5-py3-none-any.whl\n",
            "Requirement already satisfied: scikit-learn in /usr/local/lib/python3.6/dist-packages (from stocker) (0.22.2.post1)\n",
            "Requirement already satisfied: tensorflow in /usr/local/lib/python3.6/dist-packages (from stocker) (2.2.0)\n",
            "Requirement already satisfied: pandas in /usr/local/lib/python3.6/dist-packages (from stocker) (1.0.4)\n",
            "Requirement already satisfied: pandas-datareader in /usr/local/lib/python3.6/dist-packages (from stocker) (0.8.1)\n",
            "Collecting pytrends\n",
            "  Downloading https://files.pythonhosted.org/packages/96/53/a4a74c33bfdbe1740183e00769377352072e64182913562daf9f5e4f1938/pytrends-4.7.3-py3-none-any.whl\n",
            "Requirement already satisfied: requests in /usr/local/lib/python3.6/dist-packages (from stocker) (2.23.0)\n",
            "Requirement already satisfied: numpy in /usr/local/lib/python3.6/dist-packages (from stocker) (1.18.5)\n",
            "Requirement already satisfied: keras in /usr/local/lib/python3.6/dist-packages (from stocker) (2.3.1)\n",
            "Requirement already satisfied: scipy>=0.17.0 in /usr/local/lib/python3.6/dist-packages (from scikit-learn->stocker) (1.4.1)\n",
            "Requirement already satisfied: joblib>=0.11 in /usr/local/lib/python3.6/dist-packages (from scikit-learn->stocker) (0.15.1)\n",
            "Requirement already satisfied: wrapt>=1.11.1 in /usr/local/lib/python3.6/dist-packages (from tensorflow->stocker) (1.12.1)\n",
            "Requirement already satisfied: absl-py>=0.7.0 in /usr/local/lib/python3.6/dist-packages (from tensorflow->stocker) (0.9.0)\n",
            "Requirement already satisfied: termcolor>=1.1.0 in /usr/local/lib/python3.6/dist-packages (from tensorflow->stocker) (1.1.0)\n",
            "Requirement already satisfied: google-pasta>=0.1.8 in /usr/local/lib/python3.6/dist-packages (from tensorflow->stocker) (0.2.0)\n",
            "Requirement already satisfied: six>=1.12.0 in /usr/local/lib/python3.6/dist-packages (from tensorflow->stocker) (1.12.0)\n",
            "Requirement already satisfied: opt-einsum>=2.3.2 in /usr/local/lib/python3.6/dist-packages (from tensorflow->stocker) (3.2.1)\n",
            "Requirement already satisfied: protobuf>=3.8.0 in /usr/local/lib/python3.6/dist-packages (from tensorflow->stocker) (3.10.0)\n",
            "Requirement already satisfied: grpcio>=1.8.6 in /usr/local/lib/python3.6/dist-packages (from tensorflow->stocker) (1.29.0)\n",
            "Requirement already satisfied: h5py<2.11.0,>=2.10.0 in /usr/local/lib/python3.6/dist-packages (from tensorflow->stocker) (2.10.0)\n",
            "Requirement already satisfied: keras-preprocessing>=1.1.0 in /usr/local/lib/python3.6/dist-packages (from tensorflow->stocker) (1.1.2)\n",
            "Requirement already satisfied: astunparse==1.6.3 in /usr/local/lib/python3.6/dist-packages (from tensorflow->stocker) (1.6.3)\n",
            "Requirement already satisfied: wheel>=0.26; python_version >= \"3\" in /usr/local/lib/python3.6/dist-packages (from tensorflow->stocker) (0.34.2)\n",
            "Requirement already satisfied: gast==0.3.3 in /usr/local/lib/python3.6/dist-packages (from tensorflow->stocker) (0.3.3)\n",
            "Requirement already satisfied: tensorflow-estimator<2.3.0,>=2.2.0 in /usr/local/lib/python3.6/dist-packages (from tensorflow->stocker) (2.2.0)\n",
            "Requirement already satisfied: tensorboard<2.3.0,>=2.2.0 in /usr/local/lib/python3.6/dist-packages (from tensorflow->stocker) (2.2.2)\n",
            "Requirement already satisfied: python-dateutil>=2.6.1 in /usr/local/lib/python3.6/dist-packages (from pandas->stocker) (2.8.1)\n",
            "Requirement already satisfied: pytz>=2017.2 in /usr/local/lib/python3.6/dist-packages (from pandas->stocker) (2018.9)\n",
            "Requirement already satisfied: lxml in /usr/local/lib/python3.6/dist-packages (from pandas-datareader->stocker) (4.2.6)\n",
            "Requirement already satisfied: chardet<4,>=3.0.2 in /usr/local/lib/python3.6/dist-packages (from requests->stocker) (3.0.4)\n",
            "Requirement already satisfied: certifi>=2017.4.17 in /usr/local/lib/python3.6/dist-packages (from requests->stocker) (2020.4.5.2)\n",
            "Requirement already satisfied: urllib3!=1.25.0,!=1.25.1,<1.26,>=1.21.1 in /usr/local/lib/python3.6/dist-packages (from requests->stocker) (1.24.3)\n",
            "Requirement already satisfied: idna<3,>=2.5 in /usr/local/lib/python3.6/dist-packages (from requests->stocker) (2.9)\n",
            "Requirement already satisfied: keras-applications>=1.0.6 in /usr/local/lib/python3.6/dist-packages (from keras->stocker) (1.0.8)\n",
            "Requirement already satisfied: pyyaml in /usr/local/lib/python3.6/dist-packages (from keras->stocker) (3.13)\n",
            "Requirement already satisfied: setuptools in /usr/local/lib/python3.6/dist-packages (from protobuf>=3.8.0->tensorflow->stocker) (47.1.1)\n",
            "Requirement already satisfied: werkzeug>=0.11.15 in /usr/local/lib/python3.6/dist-packages (from tensorboard<2.3.0,>=2.2.0->tensorflow->stocker) (1.0.1)\n",
            "Requirement already satisfied: markdown>=2.6.8 in /usr/local/lib/python3.6/dist-packages (from tensorboard<2.3.0,>=2.2.0->tensorflow->stocker) (3.2.2)\n",
            "Requirement already satisfied: google-auth<2,>=1.6.3 in /usr/local/lib/python3.6/dist-packages (from tensorboard<2.3.0,>=2.2.0->tensorflow->stocker) (1.17.2)\n",
            "Requirement already satisfied: tensorboard-plugin-wit>=1.6.0 in /usr/local/lib/python3.6/dist-packages (from tensorboard<2.3.0,>=2.2.0->tensorflow->stocker) (1.6.0.post3)\n",
            "Requirement already satisfied: google-auth-oauthlib<0.5,>=0.4.1 in /usr/local/lib/python3.6/dist-packages (from tensorboard<2.3.0,>=2.2.0->tensorflow->stocker) (0.4.1)\n",
            "Requirement already satisfied: importlib-metadata; python_version < \"3.8\" in /usr/local/lib/python3.6/dist-packages (from markdown>=2.6.8->tensorboard<2.3.0,>=2.2.0->tensorflow->stocker) (1.6.1)\n",
            "Requirement already satisfied: cachetools<5.0,>=2.0.0 in /usr/local/lib/python3.6/dist-packages (from google-auth<2,>=1.6.3->tensorboard<2.3.0,>=2.2.0->tensorflow->stocker) (4.1.0)\n",
            "Requirement already satisfied: rsa<5,>=3.1.4; python_version >= \"3\" in /usr/local/lib/python3.6/dist-packages (from google-auth<2,>=1.6.3->tensorboard<2.3.0,>=2.2.0->tensorflow->stocker) (4.6)\n",
            "Requirement already satisfied: pyasn1-modules>=0.2.1 in /usr/local/lib/python3.6/dist-packages (from google-auth<2,>=1.6.3->tensorboard<2.3.0,>=2.2.0->tensorflow->stocker) (0.2.8)\n",
            "Requirement already satisfied: requests-oauthlib>=0.7.0 in /usr/local/lib/python3.6/dist-packages (from google-auth-oauthlib<0.5,>=0.4.1->tensorboard<2.3.0,>=2.2.0->tensorflow->stocker) (1.3.0)\n",
            "Requirement already satisfied: zipp>=0.5 in /usr/local/lib/python3.6/dist-packages (from importlib-metadata; python_version < \"3.8\"->markdown>=2.6.8->tensorboard<2.3.0,>=2.2.0->tensorflow->stocker) (3.1.0)\n",
            "Requirement already satisfied: pyasn1>=0.1.3 in /usr/local/lib/python3.6/dist-packages (from rsa<5,>=3.1.4; python_version >= \"3\"->google-auth<2,>=1.6.3->tensorboard<2.3.0,>=2.2.0->tensorflow->stocker) (0.4.8)\n",
            "Requirement already satisfied: oauthlib>=3.0.0 in /usr/local/lib/python3.6/dist-packages (from requests-oauthlib>=0.7.0->google-auth-oauthlib<0.5,>=0.4.1->tensorboard<2.3.0,>=2.2.0->tensorflow->stocker) (3.1.0)\n",
            "Installing collected packages: pytrends, stocker\n",
            "Successfully installed pytrends-4.7.3 stocker-0.1.5\n"
          ],
          "name": "stdout"
        }
      ]
    },
    {
      "cell_type": "code",
      "metadata": {
        "id": "CUH-rLWh2OVF",
        "colab_type": "code",
        "colab": {
          "base_uri": "https://localhost:8080/",
          "height": 88
        },
        "outputId": "14cbb2ca-1859-47b7-9dfa-ed1bf5efaff8"
      },
      "source": [
        "import stocker"
      ],
      "execution_count": null,
      "outputs": [
        {
          "output_type": "stream",
          "text": [
            "/usr/local/lib/python3.6/dist-packages/pandas_datareader/compat/__init__.py:7: FutureWarning: pandas.util.testing is deprecated. Use the functions in the public API at pandas.testing instead.\n",
            "  from pandas.util.testing import assert_frame_equal\n",
            "Using TensorFlow backend.\n"
          ],
          "name": "stderr"
        }
      ]
    },
    {
      "cell_type": "code",
      "metadata": {
        "id": "MGIDjojW2eZs",
        "colab_type": "code",
        "colab": {}
      },
      "source": [
        "import time\n",
        "import requests\n",
        "import pandas as pd\n",
        "url_symbols =\"https://archives.nseindia.com/content/equities/EQUITY_L.csv\"\n",
        "r = requests.get(url_symbols)\n",
        "with open(\"EQUITY_L.csv\", 'wb') as f:\n",
        "      f.write(r.content)\n",
        "data =pd.read_csv(\"EQUITY_L.csv\")\n",
        "data=data['SYMBOL']\n",
        "codelist=data.values.tolist()"
      ],
      "execution_count": null,
      "outputs": []
    },
    {
      "cell_type": "code",
      "metadata": {
        "id": "xRq8d_GD24KX",
        "colab_type": "code",
        "colab": {
          "base_uri": "https://localhost:8080/",
          "height": 1000
        },
        "outputId": "76f1895a-634c-49b6-e5aa-74980cace7cb"
      },
      "source": [
        "for code in codelist:\n",
        "  try:\n",
        "    str=\"{}\".format(code)\n",
        "    #print(str)\n",
        "    print(str+\": {}\".format(stocker.predict.tomorrow(str)))\n",
        "  except:\n",
        "    print(\"please ignore\")"
      ],
      "execution_count": null,
      "outputs": [
        {
          "output_type": "stream",
          "text": [
            "ACC.NS: [1270.86, 2.718, '2020-06-19']\n",
            "ADANITRANS.NS: [222.77, 2.685, '2020-06-19']\n",
            "AMBUJACEM.NS: [190.31, 1.859, '2020-06-19']\n",
            "ASHOKLEY.NS: [53.95, 7.972, '2020-06-19']\n",
            "AUROPHARMA.NS: [793.65, 2.159, '2020-06-19']\n",
            "DMART.NS: [2368.54, 2.363, '2020-06-19']\n",
            "BAJAJHLDNG.NS: [2514.35, 8.487, '2020-06-19']\n",
            "BANDHANBNK.NS: [275.46, 6.247, '2020-06-19']\n",
            "BANKBARODA.NS: [47.18, 6.026, '2020-06-19']\n",
            "BERGEPAINT.NS: [498.33, 1.749, '2020-06-19']\n",
            "BIOCON.NS: [409.41, 2.064, '2020-06-19']\n",
            "BOSCHLTD.NS: [10735.41, 2.505, '2020-06-19']\n",
            "CADILAHC.NS: [371.04, 1.427, '2020-06-19']\n",
            "COLPAL.NS: [1347.46, 1.381, '2020-06-19']\n",
            "CONCOR.NS: [402.19, 3.099, '2020-06-19']\n",
            "DLF.NS: [148.58, 2.224, '2020-06-19']\n",
            "DABUR.NS: [438.38, 1.231, '2020-06-19']\n",
            "DIVISLAB.NS: [2351.12, 1.902, '2020-06-19']\n",
            "GICRE.NS: [154.39, 2.806, '2020-06-19']\n",
            "GODREJCP.NS: [627.43, 1.729, '2020-06-19']\n",
            "HDFCAMC.NS: [2408.03, 1.397, '2020-06-19']\n",
            "HDFCLIFE.NS: [514.42, 1.739, '2020-06-19']\n",
            "HAVELLS.NS: [559.19, 3.679, '2020-06-19']\n",
            "HINDPETRO.NS: [215.79, 2.427, '2020-06-19']\n",
            "HINDZINC.NS: [178.03, 2.315, '2020-06-19']\n",
            "ICICIGI.NS: [1273.52, 2.011, '2020-06-19']\n",
            "ICICIPRULI.NS: [403.41, 2.792, '2020-06-19']\n",
            "IBULHSGFIN.NS: [157.54, 3.998, '2020-06-19']\n",
            "INDIGO.NS: [1008.37, 3.119, '2020-06-19']\n",
            "L&TFH.NS: [62.46, 2.946, '2020-06-19']\n",
            "LUPIN.NS: [884.84, 4.224, '2020-06-19']\n",
            "MARICO.NS: [327.61, 1.436, '2020-06-19']\n",
            "MOTHERSUMI.NS: [97.45, 2.784, '2020-06-19']\n",
            "NHPC.NS: [20.71, 3.92, '2020-06-19']\n",
            "NMDC.NS: [83.19, 2.237, '2020-06-19']\n",
            "OFSS.NS: [2808.23, 3.498, '2020-06-19']\n",
            "PAGEIND.NS: [18081.75, 1.782, '2020-06-19']\n",
            "PETRONET.NS: [261.95, 1.595, '2020-06-19']\n",
            "PIDILITIND.NS: [1391.84, 1.347, '2020-06-19']\n",
            "PEL.NS: [1067.87, 4.687, '2020-06-19']\n",
            "PFC.NS: [85.97, 4.538, '2020-06-19']\n",
            "PGHH.NS: [10162.74, 1.688, '2020-06-19']\n",
            "PNB.NS: [33.21, 2.884, '2020-06-19']\n",
            "SBILIFE.NS: [785.94, 1.643, '2020-06-19']\n",
            "SRTRANSFIN.NS: [755.29, 19.49, '2020-06-19']\n",
            "SIEMENS.NS: [1061.02, 2.241, '2020-06-19']\n",
            "NIACL.NS: [128.7, 2.029, '2020-06-19']\n",
            "UBL.NS: [1051.87, 4.439, '2020-06-19']\n",
            "MCDOWELL-N.NS: [604.92, 1.728, '2020-06-19']\n",
            "IDEA.NS: [9.68, 8.146, '2020-06-19']\n",
            "ADANIPORTS.NS: [336.7, 1.683, '2020-06-19']\n",
            "ASIANPAINT.NS: [1588.39, 1.446, '2020-06-19']\n",
            "AXISBANK.NS: [429.57, 10.458, '2020-06-19']\n",
            "BAJAJ-AUTO.NS: [2699.43, 1.65, '2020-06-19']\n",
            "BAJFINANCE.NS: [2467.97, 4.699, '2020-06-19']\n",
            "BAJAJFINSV.NS: [5212.74, 3.659, '2020-06-19']\n",
            "BPCL.NS: [364.72, 2.388, '2020-06-19']\n",
            "BHARTIARTL.NS: [572.45, 2.411, '2020-06-19']\n",
            "INFRATEL.NS: [214.48, 2.862, '2020-06-19']\n",
            "BRITANNIA.NS: [3381.75, 1.366, '2020-06-19']\n",
            "CIPLA.NS: [644.99, 1.71, '2020-06-19']\n",
            "COALINDIA.NS: [133.15, 2.375, '2020-06-19']\n",
            "DRREDDY.NS: [4074.78, 1.74, '2020-06-19']\n",
            "EICHERMOT.NS: [16695.87, 2.692, '2020-06-19']\n",
            "GAIL.NS: [96.96, 2.372, '2020-06-19']\n",
            "GRASIM.NS: [598.76, 2.598, '2020-06-19']\n",
            "HCLTECH.NS: [564.04, 1.352, '2020-06-19']\n",
            "HDFCBANK.NS: [994.53, 2.845, '2020-06-19']\n",
            "HEROMOTOCO.NS: [2376.83, 2.024, '2020-06-19']\n",
            "HINDALCO.NS: [148.77, 2.007, '2020-06-19']\n",
            "HINDUNILVR.NS: [2055.58, 0.968, '2020-06-19']\n",
            "HDFC.NS: [1835.36, 3.379, '2020-06-19']\n",
            "ICICIBANK.NS: [349.79, 3.552, '2020-06-19']\n",
            "ITC.NS: [184.83, 1.76, '2020-06-19']\n",
            "IOC.NS: [84.53, 1.905, '2020-06-19']\n",
            "INDUSINDBK.NS: [556.99, 18.671, '2020-06-19']\n",
            "INFY.NS: [717.61, 1.542, '2020-06-19']\n",
            "JSWSTEEL.NS: [188.59, 2.211, '2020-06-19']\n",
            "KOTAKBANK.NS: [1283.12, 4.013, '2020-06-19']\n",
            "LT.NS: [900.92, 2.798, '2020-06-19']\n",
            "M&M.NS: [499.63, 1.88, '2020-06-19']\n",
            "MARUTI.NS: [5716.49, 1.815, '2020-06-19']\n",
            "NTPC.NS: [93.03, 1.85, '2020-06-19']\n",
            "NESTLEIND.NS: [16124.91, 1.083, '2020-06-19']\n",
            "ONGC.NS: [81.99, 1.863, '2020-06-19']\n",
            "POWERGRID.NS: [166.46, 2.751, '2020-06-19']\n",
            "RELIANCE.NS: [1601.34, 2.059, '2020-06-19']\n",
            "SHREECEM.NS: [21276.52, 2.085, '2020-06-19']\n",
            "SBIN.NS: [188.49, 9.135, '2020-06-19']\n",
            "SUNPHARMA.NS: [469.9, 3.073, '2020-06-19']\n",
            "TCS.NS: [2041.86, 1.298, '2020-06-19']\n",
            "TATAMOTORS.NS: [95.72, 2.873, '2020-06-19']\n",
            "TATASTEEL.NS: [308.83, 2.048, '2020-06-19']\n",
            "TECHM.NS: [537.03, 1.391, '2020-06-19']\n",
            "TITAN.NS: [983.9, 2.981, '2020-06-19']\n",
            "UPL.NS: [444.73, 5.182, '2020-06-19']\n",
            "ULTRACEMCO.NS: [3813.83, 1.576, '2020-06-19']\n",
            "VEDL.NS: [102.73, 1.845, '2020-06-19']\n",
            "WIPRO.NS: [218.87, 2.305, '2020-06-19']\n",
            "ZEEL.NS: [169.76, 2.979, '2020-06-19']\n"
          ],
          "name": "stdout"
        }
      ]
    },
    {
      "cell_type": "code",
      "metadata": {
        "id": "dAh_eJ-C8ZZQ",
        "colab_type": "code",
        "colab": {
          "base_uri": "https://localhost:8080/",
          "height": 34
        },
        "outputId": "7274dbba-e6f5-4fd5-a54c-2f1a6383f899"
      },
      "source": [
        "stocker.predict.tomorrow(\"SBICARD.ns\")"
      ],
      "execution_count": null,
      "outputs": [
        {
          "output_type": "execute_result",
          "data": {
            "text/plain": [
              "[575.21, 3.162, '2020-06-15']"
            ]
          },
          "metadata": {
            "tags": []
          },
          "execution_count": 9
        }
      ]
    },
    {
      "cell_type": "code",
      "metadata": {
        "id": "jZtMAGZ798xW",
        "colab_type": "code",
        "colab": {}
      },
      "source": [
        ""
      ],
      "execution_count": null,
      "outputs": []
    }
  ]
}