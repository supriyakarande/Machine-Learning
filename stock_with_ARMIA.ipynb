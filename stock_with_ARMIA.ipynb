{
  "nbformat": 4,
  "nbformat_minor": 0,
  "metadata": {
    "colab": {
      "name": "stock_with_ARMIA.ipynb",
      "provenance": [],
      "authorship_tag": "ABX9TyPdMb/HYf3Nl2HjPdSuUyLo",
      "include_colab_link": true
    },
    "kernelspec": {
      "name": "python3",
      "display_name": "Python 3"
    }
  },
  "cells": [
    {
      "cell_type": "markdown",
      "metadata": {
        "id": "view-in-github",
        "colab_type": "text"
      },
      "source": [
        "<a href=\"https://colab.research.google.com/github/supriyakarande/Machine-Learning/blob/master/stock_with_ARMIA.ipynb\" target=\"_parent\"><img src=\"https://colab.research.google.com/assets/colab-badge.svg\" alt=\"Open In Colab\"/></a>"
      ]
    },
    {
      "cell_type": "code",
      "metadata": {
        "id": "ISz4MV1z7EYs",
        "colab_type": "code",
        "colab": {
          "base_uri": "https://localhost:8080/",
          "height": 1000
        },
        "outputId": "624aaefc-bd1d-4e43-ac24-bd8521568fab"
      },
      "source": [
        "import time\n",
        "import requests\n",
        "import pandas as pd\n",
        "from statsmodels.tsa.arima_model import ARIMA\n",
        "from sklearn.metrics import mean_squared_error\n",
        "from matplotlib import pyplot as plt\n",
        "\n",
        "\n",
        "url_symbols =\"https://archives.nseindia.com/content/equities/EQUITY_L.csv\"\n",
        "r = requests.get(url_symbols)\n",
        "with open(\"EQUITY_L.csv\", 'wb') as f:\n",
        "      f.write(r.content)\n",
        "data =pd.read_csv(\"EQUITY_L.csv\")\n",
        "data=data['SYMBOL']\n",
        "codelist=data.values.tolist()\n",
        "\n",
        "endtime =int(time.time())\n",
        "starttime=int(time.time())-86400*365  #one year back\n",
        "for code in codelist:\n",
        "  try:\n",
        "    url=\"https://query1.finance.yahoo.com/v7/finance/download/{}?period1={}&period2={}&interval=1d&events=history\".format(code,starttime,endtime)\n",
        "    r = requests.get(url)\n",
        "    with open(\"{}.csv\".format(code), 'wb') as f:\n",
        "      f.write(r.content)\n",
        "    data =pd.read_csv(\"{}.csv\".format(code),index_col=0)\n",
        "    data=data['Close']\n",
        "    data=data.dropna()\n",
        "\n",
        "    X = data.values\n",
        "    size = int(len(X) * 0.70)\n",
        "    #train, test = X[0:size], X[size:len(X)]\n",
        "    history = [x for x in X]\n",
        "    predictions = list()\n",
        "    model = ARIMA(history, order=(10,2,0))\n",
        "    model_fit = model.fit(disp=0)\n",
        "    output = model_fit.forecast()\n",
        "    yhat = output[0]\n",
        "    #print(data())\n",
        "    print(\"{} : predicted={}\".format(code, yhat))\n",
        "  except:\n",
        "    print(\"{}: Please Ignore\".format(code))"
      ],
      "execution_count": null,
      "outputs": [
        {
          "output_type": "stream",
          "text": [
            "/usr/local/lib/python3.6/dist-packages/statsmodels/tools/_testing.py:19: FutureWarning: pandas.util.testing is deprecated. Use the functions in the public API at pandas.testing instead.\n",
            "  import pandas.util.testing as tm\n"
          ],
          "name": "stderr"
        },
        {
          "output_type": "stream",
          "text": [
            "ACC.NS : predicted=[1237.58503723]\n",
            "ADANITRANS.NS : predicted=[227.28528258]\n",
            "AMBUJACEM.NS : predicted=[187.74991484]\n",
            "ASHOKLEY.NS : predicted=[52.10425619]\n",
            "AUROPHARMA.NS : predicted=[798.26940326]\n",
            "DMART.NS : predicted=[2359.92544905]\n",
            "BAJAJHLDNG.NS : predicted=[2360.98821987]\n",
            "BANDHANBNK.NS : predicted=[265.40601148]\n",
            "BANKBARODA.NS : predicted=[45.83973005]\n",
            "BERGEPAINT.NS : predicted=[504.34238049]\n",
            "BIOCON.NS : predicted=[407.23996809]\n",
            "BOSCHLTD.NS : predicted=[10566.91311493]\n",
            "CADILAHC.NS : predicted=[368.44127939]\n",
            "COLPAL.NS : predicted=[1356.69985098]\n",
            "CONCOR.NS : predicted=[393.76542016]\n",
            "DLF.NS : predicted=[148.4545059]\n",
            "DABUR.NS : predicted=[438.12732843]\n",
            "DIVISLAB.NS : predicted=[2329.77917809]\n",
            "GICRE.NS : predicted=[157.81037067]\n",
            "GODREJCP.NS : predicted=[625.88428488]\n",
            "HDFCAMC.NS : predicted=[2391.3237458]\n",
            "HDFCLIFE.NS : predicted=[503.70615878]\n",
            "HAVELLS.NS : predicted=[548.25143126]\n",
            "HINDPETRO.NS : predicted=[218.75479215]\n",
            "HINDZINC.NS : predicted=[175.41441053]\n",
            "ICICIGI.NS : predicted=[1296.40046073]\n",
            "ICICIPRULI.NS : predicted=[399.64767037]\n",
            "IBULHSGFIN.NS : predicted=[160.37588687]\n",
            "INDIGO.NS : predicted=[1003.81491085]\n",
            "L&TFH.NS : predicted=[63.31433466]\n",
            "LUPIN.NS : predicted=[923.70709767]\n",
            "MARICO.NS : predicted=[330.3964772]\n",
            "MOTHERSUMI.NS : predicted=[97.37207463]\n",
            "NHPC.NS : predicted=[19.95722824]\n",
            "NMDC.NS : predicted=[83.24774755]\n",
            "OFSS.NS : predicted=[2794.93323234]\n",
            "PAGEIND.NS : predicted=[17885.67515926]\n",
            "PETRONET.NS : predicted=[265.03008561]\n",
            "PIDILITIND.NS : predicted=[1387.98866879]\n",
            "PEL.NS : predicted=[1025.88795543]\n",
            "PFC.NS : predicted=[83.57606687]\n",
            "PGHH.NS : predicted=[10006.59800312]\n",
            "PNB.NS : predicted=[33.77000899]\n",
            "SBILIFE.NS : predicted=[782.8974829]\n",
            "SRTRANSFIN.NS : predicted=[660.29093558]\n",
            "SIEMENS.NS : predicted=[1042.68734563]\n",
            "NIACL.NS : predicted=[130.0891422]\n",
            "UBL.NS : predicted=[1034.47514815]\n",
            "MCDOWELL-N.NS : predicted=[611.22406499]\n",
            "IDEA.NS : predicted=[9.93677053]\n",
            "ADANIPORTS.NS : predicted=[337.77097344]\n",
            "ASIANPAINT.NS : predicted=[1591.1298695]\n",
            "AXISBANK.NS : predicted=[393.48986782]\n",
            "BAJAJ-AUTO.NS : predicted=[2659.45122159]\n",
            "BAJFINANCE.NS : predicted=[2454.20277701]\n",
            "BAJAJFINSV.NS : predicted=[5148.18677337]\n",
            "BPCL.NS : predicted=[365.7607457]\n",
            "BHARTIARTL.NS : predicted=[570.85031233]\n",
            "INFRATEL.NS : predicted=[213.38803385]\n",
            "BRITANNIA.NS : predicted=[3426.29444679]\n",
            "CIPLA.NS : predicted=[635.92342992]\n",
            "COALINDIA.NS : predicted=[130.99317139]\n",
            "DRREDDY.NS : predicted=[4054.85831378]\n",
            "EICHERMOT.NS : predicted=[16929.70781393]\n",
            "GAIL.NS : predicted=[97.12159702]\n",
            "GRASIM.NS : predicted=[589.06518784]\n",
            "HCLTECH.NS : predicted=[571.20260216]\n",
            "HDFCBANK.NS : predicted=[979.86307492]\n",
            "HEROMOTOCO.NS : predicted=[2375.89735015]\n",
            "HINDALCO.NS : predicted=[149.93592772]\n",
            "HINDUNILVR.NS : predicted=[2059.99517836]\n",
            "HDFC.NS : predicted=[1800.16901619]\n",
            "ICICIBANK.NS : predicted=[341.64431695]\n",
            "ITC.NS : predicted=[183.56710173]\n",
            "IOC.NS : predicted=[84.84720927]\n",
            "INDUSINDBK.NS : predicted=[501.15511738]\n",
            "INFY.NS : predicted=[711.95152584]\n",
            "JSWSTEEL.NS : predicted=[193.25904195]\n",
            "KOTAKBANK.NS : predicted=[1237.87037214]\n",
            "LT.NS : predicted=[875.93629973]\n",
            "M&M.NS : predicted=[501.86036847]\n",
            "MARUTI.NS : predicted=[5752.69910992]\n",
            "NTPC.NS : predicted=[89.95822357]\n",
            "NESTLEIND.NS : predicted=[16093.12567456]\n",
            "ONGC.NS : predicted=[82.3729892]\n",
            "POWERGRID.NS : predicted=[161.03470178]\n",
            "RELIANCE.NS : predicted=[1632.53955042]\n",
            "SHREECEM.NS : predicted=[21605.8105356]\n",
            "SBIN.NS : predicted=[176.74420051]\n",
            "SUNPHARMA.NS : predicted=[491.72395616]\n",
            "TCS.NS : predicted=[2017.78710728]\n",
            "TATAMOTORS.NS : predicted=[96.10796161]\n",
            "TATASTEEL.NS : predicted=[312.71264]\n",
            "TECHM.NS : predicted=[530.5070326]\n",
            "TITAN.NS : predicted=[962.51470697]\n",
            "UPL.NS : predicted=[431.88438658]\n",
            "ULTRACEMCO.NS : predicted=[3829.65006749]\n",
            "VEDL.NS : predicted=[103.82498567]\n",
            "WIPRO.NS : predicted=[218.73582267]\n",
            "ZEEL.NS : predicted=[167.49741551]\n"
          ],
          "name": "stdout"
        }
      ]
    },
    {
      "cell_type": "code",
      "metadata": {
        "id": "YNOTCXTx7aGh",
        "colab_type": "code",
        "colab": {
          "base_uri": "https://localhost:8080/",
          "height": 438
        },
        "outputId": "1331b59a-5938-4b64-b4fd-3d458e6cb351"
      },
      "source": [
        "import time\n",
        "import requests\n",
        "import pandas as pd\n",
        "from statsmodels.tsa.arima_model import ARIMA\n",
        "from sklearn.metrics import mean_squared_error\n",
        "from matplotlib import pyplot as plt\n",
        "\n",
        "endtime =int(time.time())\n",
        "starttime=int(time.time())-86400*365  #one year back\n",
        "code='SRTRANSFIN.NS'\n",
        "url=\"https://query1.finance.yahoo.com/v7/finance/download/{}?period1={}&period2={}&interval=1d&events=history\".format(code,starttime,endtime)\n",
        "r = requests.get(url)\n",
        "with open(\"{}.csv\".format(code), 'wb') as f:\n",
        "  f.write(r.content)\n",
        "data =pd.read_csv(\"{}.csv\".format(code),index_col=0)\n",
        "data=data['Close']\n",
        "data=data.dropna()\n",
        "\n",
        "from statsmodels.tsa.arima_model import ARIMA\n",
        "from sklearn.metrics import mean_squared_error\n",
        "from matplotlib import pyplot as plt\n",
        "X = data.values\n",
        "size = int(len(X) * 0.70)\n",
        "train, test = X[0:size], X[size:len(X)]\n",
        "history = [x for x in train]\n",
        "predictions = list()\n",
        "for t in range(len(test)):\n",
        "\tmodel = ARIMA(history, order=(10,2,0))\n",
        "\tmodel_fit = model.fit(disp=0)\n",
        "\toutput = model_fit.forecast()\n",
        "\tyhat = output[0]\n",
        "\tpredictions.append(yhat)\n",
        "\tobs = test[t]\n",
        "\thistory.append(obs)\n",
        "#print(data())\n",
        "print('predicted=%f, expected=%f' % (yhat, obs))\n",
        "error = mean_squared_error(test, predictions)\n",
        "print('Test MSE: %.3f' % error)\n",
        "# plot\n",
        "plt.plot(test)\n",
        "plt.plot(predictions, color='red')\n",
        "#plt.show()\n",
        "\n",
        "#predict in future\n",
        "#predictions= list()\n",
        "for i in range(5):\n",
        "\tmodel = ARIMA(history, order=(10,2,0))\n",
        "\tmodel_fit = model.fit(disp=0)\n",
        "\toutput = model_fit.forecast()\n",
        "\tyhat = output[0]\n",
        "\tpredictions.append(yhat)\n",
        "\thistory.append(yhat)\n",
        "\tprint(yhat)"
      ],
      "execution_count": null,
      "outputs": [
        {
          "output_type": "stream",
          "text": [
            "/usr/local/lib/python3.6/dist-packages/statsmodels/tools/_testing.py:19: FutureWarning: pandas.util.testing is deprecated. Use the functions in the public API at pandas.testing instead.\n",
            "  import pandas.util.testing as tm\n"
          ],
          "name": "stderr"
        },
        {
          "output_type": "stream",
          "text": [
            "predicted=675.952956, expected=666.849976\n",
            "Test MSE: 3965.273\n",
            "[668.59497886]\n",
            "[673.86400871]\n",
            "[681.87755134]\n",
            "[689.87614186]\n",
            "[688.82441437]\n"
          ],
          "name": "stdout"
        },
        {
          "output_type": "display_data",
          "data": {
            "image/png": "[encoded data removed]",
            "text/plain": [
              "<Figure size 432x288 with 1 Axes>"
            ]
          },
          "metadata": {
            "tags": [],
            "needs_background": "light"
          }
        }
      ]
    },
    {
      "cell_type": "code",
      "metadata": {
        "id": "AlzjZ83KRTD6",
        "colab_type": "code",
        "colab": {}
      },
      "source": [
        ""
      ],
      "execution_count": null,
      "outputs": []
    }
  ]
}