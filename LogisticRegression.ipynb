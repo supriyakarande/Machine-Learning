{
  "nbformat": 4,
  "nbformat_minor": 0,
  "metadata": {
    "colab": {
      "name": "LogisticRegression.ipynb",
      "provenance": [],
      "mount_file_id": "1ut_M9VdFE5RkuAA5jGFzPQMwXT2xXn8x",
      "authorship_tag": "ABX9TyPgXXffoX5Rd3A1Y4PmVUUR",
      "include_colab_link": true
    },
    "kernelspec": {
      "name": "python3",
      "display_name": "Python 3"
    }
  },
  "cells": [
    {
      "cell_type": "markdown",
      "metadata": {
        "id": "view-in-github",
        "colab_type": "text"
      },
      "source": [
        "<a href=\"https://colab.research.google.com/github/supriyakarande/Machine-Learning/blob/dev/LogisticRegression.ipynb\" target=\"_parent\"><img src=\"https://colab.research.google.com/assets/colab-badge.svg\" alt=\"Open In Colab\"/></a>"
      ]
    },
    {
      "cell_type": "code",
      "metadata": {
        "id": "jM--WN1JKsyB",
        "colab_type": "code",
        "outputId": "a14a3fac-988c-4c70-d5ae-97138f6e3256",
        "colab": {
          "base_uri": "https://localhost:8080/",
          "height": 260
        }
      },
      "source": [
        "import numpy as np\n",
        "import pandas as  pd\n",
        "col_names=['preg','glucose','BP','skin','insulin','bmi','pedigree','age','label']\n",
        "data=pd.read_csv(\"/content/drive/My Drive/MachineLearning/diabetes.csv\",header=0,names=col_names) \n",
        "print(data)\n"
      ],
      "execution_count": 1,
      "outputs": [
        {
          "output_type": "stream",
          "text": [
            "     preg  glucose  BP  skin  insulin   bmi  pedigree  age  label\n",
            "0       6      148  72    35        0  33.6     0.627   50      1\n",
            "1       1       85  66    29        0  26.6     0.351   31      0\n",
            "2       8      183  64     0        0  23.3     0.672   32      1\n",
            "3       1       89  66    23       94  28.1     0.167   21      0\n",
            "4       0      137  40    35      168  43.1     2.288   33      1\n",
            "..    ...      ...  ..   ...      ...   ...       ...  ...    ...\n",
            "763    10      101  76    48      180  32.9     0.171   63      0\n",
            "764     2      122  70    27        0  36.8     0.340   27      0\n",
            "765     5      121  72    23      112  26.2     0.245   30      0\n",
            "766     1      126  60     0        0  30.1     0.349   47      1\n",
            "767     1       93  70    31        0  30.4     0.315   23      0\n",
            "\n",
            "[768 rows x 9 columns]\n"
          ],
          "name": "stdout"
        }
      ]
    },
    {
      "cell_type": "code",
      "metadata": {
        "id": "i-QWpSgzNYQw",
        "colab_type": "code",
        "outputId": "32061527-f94f-4f9d-f90e-554b91a8ecf7",
        "colab": {
          "base_uri": "https://localhost:8080/",
          "height": 206
        }
      },
      "source": [
        "data.head()"
      ],
      "execution_count": 2,
      "outputs": [
        {
          "output_type": "execute_result",
          "data": {
            "text/html": [
              "<div>\n",
              "<style scoped>\n",
              "    .dataframe tbody tr th:only-of-type {\n",
              "        vertical-align: middle;\n",
              "    }\n",
              "\n",
              "    .dataframe tbody tr th {\n",
              "        vertical-align: top;\n",
              "    }\n",
              "\n",
              "    .dataframe thead th {\n",
              "        text-align: right;\n",
              "    }\n",
              "</style>\n",
              "<table border=\"1\" class=\"dataframe\">\n",
              "  <thead>\n",
              "    <tr style=\"text-align: right;\">\n",
              "      <th></th>\n",
              "      <th>preg</th>\n",
              "      <th>glucose</th>\n",
              "      <th>BP</th>\n",
              "      <th>skin</th>\n",
              "      <th>insulin</th>\n",
              "      <th>bmi</th>\n",
              "      <th>pedigree</th>\n",
              "      <th>age</th>\n",
              "      <th>label</th>\n",
              "    </tr>\n",
              "  </thead>\n",
              "  <tbody>\n",
              "    <tr>\n",
              "      <th>0</th>\n",
              "      <td>6</td>\n",
              "      <td>148</td>\n",
              "      <td>72</td>\n",
              "      <td>35</td>\n",
              "      <td>0</td>\n",
              "      <td>33.6</td>\n",
              "      <td>0.627</td>\n",
              "      <td>50</td>\n",
              "      <td>1</td>\n",
              "    </tr>\n",
              "    <tr>\n",
              "      <th>1</th>\n",
              "      <td>1</td>\n",
              "      <td>85</td>\n",
              "      <td>66</td>\n",
              "      <td>29</td>\n",
              "      <td>0</td>\n",
              "      <td>26.6</td>\n",
              "      <td>0.351</td>\n",
              "      <td>31</td>\n",
              "      <td>0</td>\n",
              "    </tr>\n",
              "    <tr>\n",
              "      <th>2</th>\n",
              "      <td>8</td>\n",
              "      <td>183</td>\n",
              "      <td>64</td>\n",
              "      <td>0</td>\n",
              "      <td>0</td>\n",
              "      <td>23.3</td>\n",
              "      <td>0.672</td>\n",
              "      <td>32</td>\n",
              "      <td>1</td>\n",
              "    </tr>\n",
              "    <tr>\n",
              "      <th>3</th>\n",
              "      <td>1</td>\n",
              "      <td>89</td>\n",
              "      <td>66</td>\n",
              "      <td>23</td>\n",
              "      <td>94</td>\n",
              "      <td>28.1</td>\n",
              "      <td>0.167</td>\n",
              "      <td>21</td>\n",
              "      <td>0</td>\n",
              "    </tr>\n",
              "    <tr>\n",
              "      <th>4</th>\n",
              "      <td>0</td>\n",
              "      <td>137</td>\n",
              "      <td>40</td>\n",
              "      <td>35</td>\n",
              "      <td>168</td>\n",
              "      <td>43.1</td>\n",
              "      <td>2.288</td>\n",
              "      <td>33</td>\n",
              "      <td>1</td>\n",
              "    </tr>\n",
              "  </tbody>\n",
              "</table>\n",
              "</div>"
            ],
            "text/plain": [
              "   preg  glucose  BP  skin  insulin   bmi  pedigree  age  label\n",
              "0     6      148  72    35        0  33.6     0.627   50      1\n",
              "1     1       85  66    29        0  26.6     0.351   31      0\n",
              "2     8      183  64     0        0  23.3     0.672   32      1\n",
              "3     1       89  66    23       94  28.1     0.167   21      0\n",
              "4     0      137  40    35      168  43.1     2.288   33      1"
            ]
          },
          "metadata": {
            "tags": []
          },
          "execution_count": 2
        }
      ]
    },
    {
      "cell_type": "code",
      "metadata": {
        "id": "9Y5MssTNNxkw",
        "colab_type": "code",
        "colab": {}
      },
      "source": [
        "# Selecting features\n",
        "feature_cols=['preg','glucose','BP','skin','insulin','bmi','pedigree','age']\n",
        "x=data[feature_cols]\n",
        "y=data.label\n",
        "\n"
      ],
      "execution_count": 0,
      "outputs": []
    },
    {
      "cell_type": "code",
      "metadata": {
        "id": "qGMQxGKyP2nG",
        "colab_type": "code",
        "colab": {}
      },
      "source": [
        "#Splitting Features\n",
        "#from sklearn.cross_validation import train_test_split\n",
        "from sklearn.model_selection import train_test_split\n",
        "x_train,x_test,y_train,y_test=train_test_split(x,y,test_size=0.25,random_state=0)\n"
      ],
      "execution_count": 0,
      "outputs": []
    },
    {
      "cell_type": "code",
      "metadata": {
        "id": "rE61vzqjQoX2",
        "colab_type": "code",
        "outputId": "eda354ec-defd-4bb9-9a70-91a9bf7bf6da",
        "colab": {
          "base_uri": "https://localhost:8080/",
          "height": 156
        }
      },
      "source": [
        "#Import the class\n",
        "from sklearn.linear_model import LogisticRegression\n",
        "\n",
        "# instatiate the model\n",
        "\n",
        "lr=LogisticRegression()\n",
        "\n",
        "#fit the model with data\n",
        "lr.fit(x_train,y_train)\n",
        "\n",
        "#predict the model\n",
        "\n",
        "y_predict=lr.predict(x_test)\n",
        "\n"
      ],
      "execution_count": 5,
      "outputs": [
        {
          "output_type": "stream",
          "text": [
            "/usr/local/lib/python3.6/dist-packages/sklearn/linear_model/_logistic.py:940: ConvergenceWarning: lbfgs failed to converge (status=1):\n",
            "STOP: TOTAL NO. of ITERATIONS REACHED LIMIT.\n",
            "\n",
            "Increase the number of iterations (max_iter) or scale the data as shown in:\n",
            "    https://scikit-learn.org/stable/modules/preprocessing.html\n",
            "Please also refer to the documentation for alternative solver options:\n",
            "    https://scikit-learn.org/stable/modules/linear_model.html#logistic-regression\n",
            "  extra_warning_msg=_LOGISTIC_SOLVER_CONVERGENCE_MSG)\n"
          ],
          "name": "stderr"
        }
      ]
    },
    {
      "cell_type": "code",
      "metadata": {
        "id": "Ylb005aKSQh4",
        "colab_type": "code",
        "outputId": "dd578a0a-05bf-4535-c5c8-6500357e8613",
        "colab": {
          "base_uri": "https://localhost:8080/",
          "height": 52
        }
      },
      "source": [
        "# Model Evaluation using confusion matrix\n",
        "\n",
        "from sklearn import metrics\n",
        "\n",
        "cnf_metric=metrics.confusion_matrix(y_test,y_predict)\n",
        "print(cnf_metric)"
      ],
      "execution_count": 6,
      "outputs": [
        {
          "output_type": "stream",
          "text": [
            "[[115  15]\n",
            " [ 25  37]]\n"
          ],
          "name": "stdout"
        }
      ]
    },
    {
      "cell_type": "code",
      "metadata": {
        "id": "JKGfgg5FTKsQ",
        "colab_type": "code",
        "outputId": "4821139e-2c5a-4dc0-e6fa-210eeb20753b",
        "colab": {
          "base_uri": "https://localhost:8080/",
          "height": 69
        }
      },
      "source": [
        "#Confusiom Matrix accuracy,precision and recall\n",
        "\n",
        "print(\"Accuracy=\",metrics.accuracy_score(y_test,y_predict))\n",
        "print(\"Precion=\",metrics.precision_score(y_test,y_predict))\n",
        "print(\"recall=\",metrics.recall_score(y_test,y_predict))\n"
      ],
      "execution_count": 7,
      "outputs": [
        {
          "output_type": "stream",
          "text": [
            "Accuracy= 0.7916666666666666\n",
            "Precion= 0.7115384615384616\n",
            "recall= 0.5967741935483871\n"
          ],
          "name": "stdout"
        }
      ]
    },
    {
      "cell_type": "code",
      "metadata": {
        "id": "xTKIdUXVUje2",
        "colab_type": "code",
        "colab": {}
      },
      "source": [
        ""
      ],
      "execution_count": 0,
      "outputs": []
    }
  ]
}